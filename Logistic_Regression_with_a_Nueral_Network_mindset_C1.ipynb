{
  "nbformat": 4,
  "nbformat_minor": 0,
  "metadata": {
    "colab": {
      "name": "Logistic Regression with a Nueral Network mindset_C1.ipynb",
      "provenance": [],
      "toc_visible": true,
      "authorship_tag": "ABX9TyOpCxz7KuM+dotKf3UyLXve",
      "include_colab_link": true
    },
    "kernelspec": {
      "name": "python3",
      "display_name": "Python 3"
    },
    "accelerator": "GPU"
  },
  "cells": [
    {
      "cell_type": "markdown",
      "metadata": {
        "id": "view-in-github",
        "colab_type": "text"
      },
      "source": [
        "<a href=\"https://colab.research.google.com/github/Howlan/DeepLearningPractice/blob/main/Logistic_Regression_with_a_Nueral_Network_mindset_C1.ipynb\" target=\"_parent\"><img src=\"https://colab.research.google.com/assets/colab-badge.svg\" alt=\"Open In Colab\"/></a>"
      ]
    },
    {
      "cell_type": "code",
      "metadata": {
        "colab": {
          "base_uri": "https://localhost:8080/"
        },
        "id": "AVrlyNH3wWw-",
        "outputId": "6fdfd1ae-0500-420d-b162-c01b8eb7f5b9"
      },
      "source": [
        "from google.colab import drive\r\n",
        "drive.mount('/content/gdrive')"
      ],
      "execution_count": 1,
      "outputs": [
        {
          "output_type": "stream",
          "text": [
            "Mounted at /content/gdrive\n"
          ],
          "name": "stdout"
        }
      ]
    },
    {
      "cell_type": "code",
      "metadata": {
        "colab": {
          "base_uri": "https://localhost:8080/"
        },
        "id": "TFIjiMoVw2iO",
        "outputId": "2e0097e9-f488-4877-a8f3-bc75f8038869"
      },
      "source": [
        "cd /content/gdrive/MyDrive\r\n"
      ],
      "execution_count": 2,
      "outputs": [
        {
          "output_type": "stream",
          "text": [
            "/content/gdrive/MyDrive\n"
          ],
          "name": "stdout"
        }
      ]
    },
    {
      "cell_type": "code",
      "metadata": {
        "colab": {
          "base_uri": "https://localhost:8080/",
          "height": 34
        },
        "id": "wx1qmb4zw3qJ",
        "outputId": "89875b90-a3d8-4066-b495-849f5306850e"
      },
      "source": [
        "pwd\r\n"
      ],
      "execution_count": 3,
      "outputs": [
        {
          "output_type": "execute_result",
          "data": {
            "application/vnd.google.colaboratory.intrinsic+json": {
              "type": "string"
            },
            "text/plain": [
              "'/content/gdrive/MyDrive'"
            ]
          },
          "metadata": {
            "tags": []
          },
          "execution_count": 3
        }
      ]
    },
    {
      "cell_type": "code",
      "metadata": {
        "colab": {
          "base_uri": "https://localhost:8080/"
        },
        "id": "KwyGaNPGw46t",
        "outputId": "5d46d112-666e-4cb6-eec0-281c28344bcc"
      },
      "source": [
        "!git clone \"https://github.com/amanchadha/coursera-deep-learning-specialization.git\"\r\n"
      ],
      "execution_count": 4,
      "outputs": [
        {
          "output_type": "stream",
          "text": [
            "Cloning into 'coursera-deep-learning-specialization'...\n",
            "remote: Enumerating objects: 1090, done.\u001b[K\n",
            "remote: Total 1090 (delta 0), reused 0 (delta 0), pack-reused 1090\u001b[K\n",
            "Receiving objects: 100% (1090/1090), 170.99 MiB | 14.41 MiB/s, done.\n",
            "Resolving deltas: 100% (56/56), done.\n",
            "Checking out files: 100% (943/943), done.\n"
          ],
          "name": "stdout"
        }
      ]
    },
    {
      "cell_type": "code",
      "metadata": {
        "colab": {
          "base_uri": "https://localhost:8080/"
        },
        "id": "2Abzz6oaw_zh",
        "outputId": "aeba7f41-a399-44b9-df28-1e84c349b19d"
      },
      "source": [
        "cd ./coursera-deep-learning-specialization/"
      ],
      "execution_count": 20,
      "outputs": [
        {
          "output_type": "stream",
          "text": [
            "[Errno 2] No such file or directory: './coursera-deep-learning-specialization/'\n",
            "/content/gdrive/MyDrive/coursera-deep-learning-specialization\n"
          ],
          "name": "stdout"
        }
      ]
    },
    {
      "cell_type": "code",
      "metadata": {
        "colab": {
          "base_uri": "https://localhost:8080/"
        },
        "id": "-zY8KSNfxn4C",
        "outputId": "02200354-dba9-48e2-a590-e84e6a5fd85f"
      },
      "source": [
        "cd ./'C1 - Neural Networks and Deep Learning'/"
      ],
      "execution_count": 21,
      "outputs": [
        {
          "output_type": "stream",
          "text": [
            "/content/gdrive/MyDrive/coursera-deep-learning-specialization/C1 - Neural Networks and Deep Learning\n"
          ],
          "name": "stdout"
        }
      ]
    },
    {
      "cell_type": "code",
      "metadata": {
        "colab": {
          "base_uri": "https://localhost:8080/"
        },
        "id": "4rzKhrvxy-MW",
        "outputId": "10dcd3d1-a609-4236-a84f-476dab5ddabc"
      },
      "source": [
        "cd ./'Week 2'/"
      ],
      "execution_count": 22,
      "outputs": [
        {
          "output_type": "stream",
          "text": [
            "/content/gdrive/MyDrive/coursera-deep-learning-specialization/C1 - Neural Networks and Deep Learning/Week 2\n"
          ],
          "name": "stdout"
        }
      ]
    },
    {
      "cell_type": "code",
      "metadata": {
        "colab": {
          "base_uri": "https://localhost:8080/"
        },
        "id": "7J581WfAzAuk",
        "outputId": "febf257b-6a56-48eb-9742-7b8ea7747d42"
      },
      "source": [
        "cd Logistic\\ Regression\\ as\\ a\\ Neural\\ Network"
      ],
      "execution_count": 23,
      "outputs": [
        {
          "output_type": "stream",
          "text": [
            "/content/gdrive/MyDrive/coursera-deep-learning-specialization/C1 - Neural Networks and Deep Learning/Week 2/Logistic Regression as a Neural Network\n"
          ],
          "name": "stdout"
        }
      ]
    },
    {
      "cell_type": "code",
      "metadata": {
        "colab": {
          "base_uri": "https://localhost:8080/",
          "height": 34
        },
        "id": "Y9_PPFlazC3w",
        "outputId": "00bb5071-6907-4e02-d0c9-2ea968b1bcce"
      },
      "source": [
        "pwd"
      ],
      "execution_count": 24,
      "outputs": [
        {
          "output_type": "execute_result",
          "data": {
            "application/vnd.google.colaboratory.intrinsic+json": {
              "type": "string"
            },
            "text/plain": [
              "'/content/gdrive/MyDrive/coursera-deep-learning-specialization/C1 - Neural Networks and Deep Learning/Week 2/Logistic Regression as a Neural Network'"
            ]
          },
          "metadata": {
            "tags": []
          },
          "execution_count": 24
        }
      ]
    },
    {
      "cell_type": "code",
      "metadata": {
        "id": "OIYBcokHzEF8"
      },
      "source": [
        "import numpy as np\r\n",
        "import matplotlib.pyplot as plt\r\n",
        "import h5py\r\n",
        "import scipy\r\n",
        "from PIL import Image\r\n",
        "from scipy import ndimage\r\n",
        "from lr_utils import load_dataset\r\n",
        "\r\n",
        "%matplotlib inline"
      ],
      "execution_count": 25,
      "outputs": []
    },
    {
      "cell_type": "code",
      "metadata": {
        "id": "XfcyZzzuzIVv"
      },
      "source": [
        "train_set_x_orig, train_set_y, test_set_x_orig, test_set_y, classes = load_dataset()"
      ],
      "execution_count": 26,
      "outputs": []
    },
    {
      "cell_type": "code",
      "metadata": {
        "colab": {
          "base_uri": "https://localhost:8080/",
          "height": 285
        },
        "id": "v9oR6H4MzK76",
        "outputId": "7a97ddff-8008-4f84-bc53-577496f2b45b"
      },
      "source": [
        "index = 25\r\n",
        "plt.imshow(train_set_x_orig[index])\r\n",
        "print (\"y = \" + str(train_set_y[:, index]) + \", it's a '\" + classes[np.squeeze(train_set_y[:, index])].decode(\"utf-8\") +  \"' picture.\")\r\n"
      ],
      "execution_count": 27,
      "outputs": [
        {
          "output_type": "stream",
          "text": [
            "y = [1], it's a 'cat' picture.\n"
          ],
          "name": "stdout"
        },
        {
          "output_type": "display_data",
          "data": {
            "image/png": "[encoded data removed]",
            "text/plain": [
              "<Figure size 432x288 with 1 Axes>"
            ]
          },
          "metadata": {
            "tags": [],
            "needs_background": "light"
          }
        }
      ]
    },
    {
      "cell_type": "code",
      "metadata": {
        "colab": {
          "base_uri": "https://localhost:8080/"
        },
        "id": "9m6AOqvBzN9B",
        "outputId": "70215228-62b5-4da4-e790-aa278830beb7"
      },
      "source": [
        "### START CODE HERE ### (≈ 3 lines of code)\r\n",
        "m_train = train_set_x_orig.shape[0]\r\n",
        "m_test = test_set_x_orig.shape[0]\r\n",
        "num_px = test_set_x_orig[0].shape[0]\r\n",
        "### END CODE HERE ###\r\n",
        "\r\n",
        "print (\"Number of training examples: m_train = \" + str(m_train))\r\n",
        "print (\"Number of testing examples: m_test = \" + str(m_test))\r\n",
        "print (\"Height/Width of each image: num_px = \" + str(num_px))\r\n",
        "print (\"Each image is of size: (\" + str(num_px) + \", \" + str(num_px) + \", 3)\")\r\n",
        "print (\"train_set_x shape: \" + str(train_set_x_orig.shape))\r\n",
        "print (\"train_set_y shape: \" + str(train_set_y.shape))\r\n",
        "print (\"test_set_x shape: \" + str(test_set_x_orig.shape))\r\n",
        "print (\"test_set_y shape: \" + str(test_set_y.shape))"
      ],
      "execution_count": 28,
      "outputs": [
        {
          "output_type": "stream",
          "text": [
            "Number of training examples: m_train = 209\n",
            "Number of testing examples: m_test = 50\n",
            "Height/Width of each image: num_px = 64\n",
            "Each image is of size: (64, 64, 3)\n",
            "train_set_x shape: (209, 64, 64, 3)\n",
            "train_set_y shape: (1, 209)\n",
            "test_set_x shape: (50, 64, 64, 3)\n",
            "test_set_y shape: (1, 50)\n"
          ],
          "name": "stdout"
        }
      ]
    },
    {
      "cell_type": "code",
      "metadata": {
        "colab": {
          "base_uri": "https://localhost:8080/"
        },
        "id": "cIThTmYlzZps",
        "outputId": "82d0aa73-48c9-4d85-dbf7-cefc7ed3b663"
      },
      "source": [
        "# Reshape the training and test examples\r\n",
        "\r\n",
        "### START CODE HERE ### (≈ 2 lines of code)\r\n",
        "train_set_x_flatten = train_set_x_orig.reshape(train_set_x_orig.shape[0], -1).T\r\n",
        "test_set_x_flatten = test_set_x_orig.reshape(test_set_x_orig.shape[0], -1).T\r\n",
        "### END CODE HERE ###\r\n",
        "\r\n",
        "print (\"train_set_x_flatten shape: \" + str(train_set_x_flatten.shape))\r\n",
        "print (\"train_set_y shape: \" + str(train_set_y.shape))\r\n",
        "print (\"test_set_x_flatten shape: \" + str(test_set_x_flatten.shape))\r\n",
        "print (\"test_set_y shape: \" + str(test_set_y.shape))\r\n",
        "print (\"sanity check after reshaping: \" + str(train_set_x_flatten[0:5,0]))"
      ],
      "execution_count": 29,
      "outputs": [
        {
          "output_type": "stream",
          "text": [
            "train_set_x_flatten shape: (12288, 209)\n",
            "train_set_y shape: (1, 209)\n",
            "test_set_x_flatten shape: (12288, 50)\n",
            "test_set_y shape: (1, 50)\n",
            "sanity check after reshaping: [17 31 56 22 33]\n"
          ],
          "name": "stdout"
        }
      ]
    },
    {
      "cell_type": "code",
      "metadata": {
        "id": "ILuH-KVr0lDZ"
      },
      "source": [
        "#Let's standardize our dataset.\r\n",
        "\r\n",
        "train_set_x = train_set_x_flatten/255.\r\n",
        "test_set_x = test_set_x_flatten/255.\r\n"
      ],
      "execution_count": 30,
      "outputs": []
    },
    {
      "cell_type": "code",
      "metadata": {
        "id": "LuIEjw6m02G7"
      },
      "source": [
        "def sigmoid(z):\r\n",
        "    s = 1/(1+np.exp(-z))\r\n",
        "    return s"
      ],
      "execution_count": 31,
      "outputs": []
    },
    {
      "cell_type": "code",
      "metadata": {
        "colab": {
          "base_uri": "https://localhost:8080/"
        },
        "id": "bcG_gNT51RzM",
        "outputId": "0f4944d8-7b39-4af5-913d-5a56004d6d5d"
      },
      "source": [
        "def initialize_with_zeros(dim):\r\n",
        "    \"\"\"\r\n",
        "    This function creates a vector of zeros of shape (dim, 1) for w and initializes b to 0.\r\n",
        "    \r\n",
        "    Argument:\r\n",
        "    dim -- size of the w vector we want (or number of parameters in this case)\r\n",
        "    \r\n",
        "    Returns:\r\n",
        "    w -- initialized vector of shape (dim, 1)\r\n",
        "    b -- initialized scalar (corresponds to the bias)\r\n",
        "    \"\"\"\r\n",
        "    \r\n",
        "    ### START CODE HERE ### (≈ 1 line of code)\r\n",
        "    w = np.zeros((dim, 1))\r\n",
        "    b = 0\r\n",
        "    ### END CODE HERE ###\r\n",
        "\r\n",
        "    assert(w.shape == (dim, 1))\r\n",
        "    assert(isinstance(b, float) or isinstance(b, int))\r\n",
        "    \r\n",
        "    return w, b\r\n",
        "\r\n",
        "initialize_with_zeros(8)    "
      ],
      "execution_count": 37,
      "outputs": [
        {
          "output_type": "execute_result",
          "data": {
            "text/plain": [
              "(array([[0.],\n",
              "        [0.],\n",
              "        [0.],\n",
              "        [0.],\n",
              "        [0.],\n",
              "        [0.],\n",
              "        [0.],\n",
              "        [0.]]), 0)"
            ]
          },
          "metadata": {
            "tags": []
          },
          "execution_count": 37
        }
      ]
    },
    {
      "cell_type": "code",
      "metadata": {
        "id": "cYi9WiJp12D3"
      },
      "source": [
        "def propagate(w, b, X, Y):  \r\n",
        "     m = X.shape[1];\r\n",
        "     A = sigmoid(np.dot(w.T, X) + b)\r\n",
        "     cost = -1/m*(np.sum(Y*np.log(A) + (1-Y)*np.log(1-A)))\r\n",
        "     dz = A-Y\r\n",
        "     dw = 1/m*np.dot(X, dz.T);\r\n",
        "     db = 1/m*np.sum(dz);\r\n",
        "     grad = {\r\n",
        "         \"dw\" : dw, \r\n",
        "         \"db\" : db\r\n",
        "     }\r\n",
        "     return grad, cost"
      ],
      "execution_count": 50,
      "outputs": []
    },
    {
      "cell_type": "code",
      "metadata": {
        "colab": {
          "base_uri": "https://localhost:8080/"
        },
        "id": "DoRSmekI14ho",
        "outputId": "d9fb8b05-5ef1-4fa3-fb9c-7ebbdaa15685"
      },
      "source": [
        "w, b, X, Y = np.array([[1.],[2.]]), 2., np.array([[1.,2.,-1.],[3.,4.,-3.2]]), np.array([[1,0,1]])\r\n",
        "grads, cost = propagate(w, b, X, Y)\r\n",
        "print (\"dw = \" + str(grads[\"dw\"]))\r\n",
        "print (\"db = \" + str(grads[\"db\"]))\r\n",
        "print (\"cost = \" + str(cost))"
      ],
      "execution_count": 51,
      "outputs": [
        {
          "output_type": "stream",
          "text": [
            "dw = [[0.99845601]\n",
            " [2.39507239]]\n",
            "db = 0.001455578136784208\n",
            "cost = 5.801545319394553\n"
          ],
          "name": "stdout"
        }
      ]
    },
    {
      "cell_type": "code",
      "metadata": {
        "id": "P7A9qzx77QR4"
      },
      "source": [
        "def optimize(w, b, X, Y, num_iterations, learning_rate, print_cost = False):\r\n",
        "    \"\"\"\r\n",
        "    This function optimizes w and b by running a gradient descent algorithm\r\n",
        "    \r\n",
        "    Arguments:\r\n",
        "    w -- weights, a numpy array of size (num_px * num_px * 3, 1)\r\n",
        "    b -- bias, a scalar\r\n",
        "    X -- data of shape (num_px * num_px * 3, number of examples)\r\n",
        "    Y -- true \"label\" vector (containing 0 if non-cat, 1 if cat), of shape (1, number of examples)\r\n",
        "    num_iterations -- number of iterations of the optimization loop\r\n",
        "    learning_rate -- learning rate of the gradient descent update rule\r\n",
        "    print_cost -- True to print the loss every 100 steps\r\n",
        "    \r\n",
        "    Returns:\r\n",
        "    params -- dictionary containing the weights w and bias b\r\n",
        "    grads -- dictionary containing the gradients of the weights and bias with respect to the cost function\r\n",
        "    costs -- list of all the costs computed during the optimization, this will be used to plot the learning curve.\r\n",
        "    \r\n",
        "    Tips:\r\n",
        "    You basically need to write down two steps and iterate through them:\r\n",
        "        1) Calculate the cost and the gradient for the current parameters. Use propagate().\r\n",
        "        2) Update the parameters using gradient descent rule for w and b.\r\n",
        "    \"\"\"\r\n",
        "    \r\n",
        "    costs = []\r\n",
        "    for i in range(num_iterations):\r\n",
        "        \r\n",
        "        # Cost and gradient calculation (≈ 1-4 lines of code)\r\n",
        "        ### START CODE HERE ### \r\n",
        "        grads, cost = propagate(w, b, X, Y)\r\n",
        "        ### END CODE HERE ###\r\n",
        "        \r\n",
        "        # Retrieve derivatives from grads\r\n",
        "        dw = grads[\"dw\"]\r\n",
        "        db = grads[\"db\"]\r\n",
        "        \r\n",
        "        # update rule (≈ 2 lines of code)\r\n",
        "        ### START CODE HERE ###\r\n",
        "        w = w - learning_rate*dw\r\n",
        "        b = b - learning_rate*db\r\n",
        "        ### END CODE HERE ###\r\n",
        "        \r\n",
        "        # Record the costs\r\n",
        "        if i % 100 == 0:\r\n",
        "            costs.append(cost)\r\n",
        "        \r\n",
        "        # Print the cost every 100 training iterations\r\n",
        "        if print_cost and i % 100 == 0:\r\n",
        "            print (\"Cost after iteration %i: %f\" %(i, cost))\r\n",
        "    \r\n",
        "    params = {\"w\": w,\r\n",
        "              \"b\": b}\r\n",
        "    \r\n",
        "    grads = {\"dw\": dw,\r\n",
        "             \"db\": db}\r\n",
        "    \r\n",
        "    return params, grads, costs"
      ],
      "execution_count": 52,
      "outputs": []
    },
    {
      "cell_type": "code",
      "metadata": {
        "id": "U2RGS9mi7pJO"
      },
      "source": [
        "def predict(w, b, X):\r\n",
        "    '''\r\n",
        "    Predict whether the label is 0 or 1 using learned logistic regression parameters (w, b)\r\n",
        "    \r\n",
        "    Arguments:\r\n",
        "    w -- weights, a numpy array of size (num_px * num_px * 3, 1)\r\n",
        "    b -- bias, a scalar\r\n",
        "    X -- data of size (num_px * num_px * 3, number of examples)\r\n",
        "    \r\n",
        "    Returns:\r\n",
        "    Y_prediction -- a numpy array (vector) containing all predictions (0/1) for the examples in X\r\n",
        "    '''\r\n",
        "    \r\n",
        "    m = X.shape[1]\r\n",
        "    Y_prediction = np.zeros((1,m))\r\n",
        "    w = w.reshape(X.shape[0], 1)\r\n",
        "    \r\n",
        "    # Compute vector \"A\" predicting the probabilities of a cat being present in the picture\r\n",
        "    ### START CODE HERE ### (≈ 1 line of code)\r\n",
        "    A = sigmoid(np.dot(w.T, X)+ b)\r\n",
        "    ### END CODE HERE ###\r\n",
        "    \r\n",
        "    for i in range(A.shape[1]):\r\n",
        "        \r\n",
        "        # Convert probabilities A[0,i] to actual predictions p[0,i]\r\n",
        "        ### START CODE HERE ### (≈ 4 lines of code)\r\n",
        "        Y_prediction[0][i] = 1 if A[0][i]>0.5 else 0\r\n",
        "        ### END CODE HERE ###\r\n",
        "    \r\n",
        "    assert(Y_prediction.shape == (1, m))\r\n",
        "    \r\n",
        "    return Y_prediction"
      ],
      "execution_count": 54,
      "outputs": []
    },
    {
      "cell_type": "code",
      "metadata": {
        "colab": {
          "base_uri": "https://localhost:8080/"
        },
        "id": "90nZ-h6C8t9X",
        "outputId": "f18ec561-b73e-4ee4-ee44-24cad14cc479"
      },
      "source": [
        "w = np.array([[0.1124579],[0.23106775]])\r\n",
        "b = -0.3\r\n",
        "X = np.array([[1.,-1.1,-3.2],[1.2,2.,0.1]])\r\n",
        "print (\"predictions = \" + str(predict(w, b, X)))"
      ],
      "execution_count": 55,
      "outputs": [
        {
          "output_type": "stream",
          "text": [
            "predictions = [[1. 1. 0.]]\n"
          ],
          "name": "stdout"
        }
      ]
    },
    {
      "cell_type": "code",
      "metadata": {
        "id": "xUgeLnQP80Kh"
      },
      "source": [
        "def model(X_train, Y_train, X_test, Y_test, num_iterations = 2000, learning_rate = 0.5, print_cost = False):\r\n",
        "    \"\"\"\r\n",
        "    Builds the logistic regression model by calling the function you've implemented previously\r\n",
        "    \r\n",
        "    Arguments:\r\n",
        "    X_train -- training set represented by a numpy array of shape (num_px * num_px * 3, m_train)\r\n",
        "    Y_train -- training labels represented by a numpy array (vector) of shape (1, m_train)\r\n",
        "    X_test -- test set represented by a numpy array of shape (num_px * num_px * 3, m_test)\r\n",
        "    Y_test -- test labels represented by a numpy array (vector) of shape (1, m_test)\r\n",
        "    num_iterations -- hyperparameter representing the number of iterations to optimize the parameters\r\n",
        "    learning_rate -- hyperparameter representing the learning rate used in the update rule of optimize()\r\n",
        "    print_cost -- Set to true to print the cost every 100 iterations\r\n",
        "    \r\n",
        "    Returns:\r\n",
        "    d -- dictionary containing information about the model.\r\n",
        "    \"\"\"\r\n",
        "    \r\n",
        "    ### START CODE HERE ###\r\n",
        "    \r\n",
        "    # initialize parameters with zeros (≈ 1 line of code)\r\n",
        "    w, b = initialize_with_zeros(X_train.shape[0])\r\n",
        "\r\n",
        "    # Gradient descent (≈ 1 line of code)\r\n",
        "    parameters, grads, costs = optimize(w, b, X_train, Y_train, num_iterations, learning_rate, print_cost = False)\r\n",
        "    \r\n",
        "    # Retrieve parameters w and b from dictionary \"parameters\"\r\n",
        "    w = parameters[\"w\"]\r\n",
        "    b = parameters[\"b\"]\r\n",
        "    \r\n",
        "    # Predict test/train set examples (≈ 2 lines of code)\r\n",
        "    Y_prediction_test = predict(w, b, X_test)\r\n",
        "    Y_prediction_train = predict(w, b, X_train)\r\n",
        "\r\n",
        "    ### END CODE HERE ###\r\n",
        "\r\n",
        "    # Print train/test Errors\r\n",
        "    print(\"train accuracy: {} %\".format(100 - np.mean(np.abs(Y_prediction_train - Y_train)) * 100))\r\n",
        "    print(\"test accuracy: {} %\".format(100 - np.mean(np.abs(Y_prediction_test - Y_test)) * 100))\r\n",
        "\r\n",
        "    \r\n",
        "    d = {\"costs\": costs,\r\n",
        "         \"Y_prediction_test\": Y_prediction_test, \r\n",
        "         \"Y_prediction_train\" : Y_prediction_train, \r\n",
        "         \"w\" : w, \r\n",
        "         \"b\" : b,\r\n",
        "         \"learning_rate\" : learning_rate,\r\n",
        "         \"num_iterations\": num_iterations}\r\n",
        "    \r\n",
        "    return d"
      ],
      "execution_count": 56,
      "outputs": []
    },
    {
      "cell_type": "code",
      "metadata": {
        "colab": {
          "base_uri": "https://localhost:8080/"
        },
        "id": "ZqYZHOzW9Ohi",
        "outputId": "faeaa196-88f4-4fd3-e9fc-57ce0587038b"
      },
      "source": [
        "d = model(train_set_x, train_set_y, test_set_x, test_set_y, num_iterations = 2000, learning_rate = 0.005, print_cost = True)"
      ],
      "execution_count": 59,
      "outputs": [
        {
          "output_type": "stream",
          "text": [
            "train accuracy: 99.04306220095694 %\n",
            "test accuracy: 70.0 %\n"
          ],
          "name": "stdout"
        }
      ]
    }
  ]
}